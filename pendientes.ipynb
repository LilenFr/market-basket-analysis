{
 "cells": [
  {
   "cell_type": "markdown",
   "metadata": {},
   "source": [
    "recordar el venv\n",
    "checkear cómo usar markdown\n",
    "link del dataset https://www.kaggle.com/datasets/heeraldedhia/groceries-dataset\n",
    "hacer una visualización con los resultados\n",
    "explicar  conclusiones\n",
    "capaz le meto storytelling\n",
    "https://es.wikipedia.org/wiki/Algoritmo_apriori\n",
    "podria hacer un glosario\n",
    "lo que hice para usar jpyter\n",
    "link \n",
    "https://365datascience.com/tutorials/python-tutorials/market-basket-analysis/\n",
    "Investigar con qué repicar"
   ]
  }
 ],
 "metadata": {
  "kernelspec": {
   "display_name": "Python 3 (ipykernel)",
   "language": "python",
   "name": "python3"
  },
  "orig_nbformat": 4,
  "vscode": {
   "interpreter": {
    "hash": "916dbcbb3f70747c44a77c7bcd40155683ae19c65e1c03b4aa3499c5328201f1"
   }
  }
 },
 "nbformat": 4,
 "nbformat_minor": 2
}
