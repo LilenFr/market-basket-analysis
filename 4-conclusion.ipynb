{
 "cells": [
  {
   "cell_type": "code",
   "execution_count": null,
   "metadata": {},
   "outputs": [],
   "source": []
  }
 ],
 "metadata": {
  "kernelspec": {
   "display_name": "Python 3.8.10 ('venv': venv)",
   "language": "python",
   "name": "python3"
  },
  "language_info": {
   "name": "python",
   "version": "3.8.10"
  },
  "orig_nbformat": 4,
  "vscode": {
   "interpreter": {
    "hash": "d84aef831358716e1484b3f22629ac7e6fbc2fa315fb69ece89c51f7551e8f0a"
   }
  }
 },
 "nbformat": 4,
 "nbformat_minor": 2
}
