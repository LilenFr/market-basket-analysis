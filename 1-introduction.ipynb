{
 "cells": [
  {
   "attachments": {},
   "cell_type": "markdown",
   "metadata": {},
   "source": [
    "# Descripción del proyecto"
   ]
  },
  {
   "cell_type": "markdown",
   "metadata": {},
   "source": [
    "Este es un pequeño proyecto de análisis del carrito de compra con el objetivo de descubrir qué combinaciones de productos se compran con más frecuencia en una tienda de cosmetibles."
   ]
  },
  {
   "cell_type": "markdown",
   "metadata": {},
   "source": [
    "Requisitos:\n",
    "+ El dataset 'Groceries_dataset.csv'. Descargar en el siguiente <a href=\"https://www.kaggle.com/datasets/heeraldedhia/groceries-dataset\">link</a>.<br>\n",
    "+ Las librerías Pandas y Mlxtend. Ver archivo 'requirements.txt'.\n",
    "+ El algoritmo A priori para el análisis del carrito de compra."
   ]
  },
  {
   "cell_type": "markdown",
   "metadata": {},
   "source": [
    "### Conceptos"
   ]
  },
  {
   "attachments": {},
   "cell_type": "markdown",
   "metadata": {},
   "source": [
    "\n",
    "<strong>Análisis del carrito de compra:</strong><br>\n",
    "\n",
    "¿Qué es?<br>\n",
    "Es una aplicación de ciencia de datos en markenting que mejora la experiencia del usuario y fomenta las compras, lo que agrega valor comercial directo a las empresas.<br>\n",
    "Es una técnica de aprendizaje automático no supervisada porque no entrena en un conjunto de datos ni predice un resultado. Lo que hace el algoritmo es identificar relaciones entre productos y combinaciones de productoss que se compran juntos con frecuencia.\n",
    "\n",
    "¿Para qué sirve?<br>\n",
    "Esta técnica sirve para identificar combinaciones de productos que se dan con frecuencia en las transacciones.\n",
    "\n",
    "¿Cómo lo logra?<br>\n",
    "Mediante el uso de un conjunto de reglas estadísticas. Comúnmente se utiliza el algoritmo A priori.\n",
    "\n",
    "Ejemplo:<br>\n",
    "Un supermercado en donde la fórmula para bebés y los pañales siempre se venden en el mismo pasillo. De manera similar, el shampoo con el acondicionador se colocan uno cerca del otro.<br>\n",
    "\n",
    "Los restaurantes, las tiendas minoristas y las plataformas de e-commerce utilizan con frecuencia el análisis del carrito de compra para alentar a los clientes a realizar más compras en una sola visita. \n",
    "\n"
   ]
  },
  {
   "cell_type": "markdown",
   "metadata": {},
   "source": [
    "<strong>Algoritmo A priori:</strong>\n",
    "\n",
    "¿Qué es?<br>\n",
    "Es la técnica más común para realizar análisis del carrito de compra.\n",
    "\n",
    "Supongamos que la mayoria de clientes de una Tienda x han comprado leche, azúcar y galletitas juntos. Esto significa que leche, azucar y galletitas es un conjunto de productos frecuente, ya que aparece en la mayoria de las compras. Entonces, si una persona agarra leche y azucar, también se le recomendarán galletitas.\n",
    "\n",
    "¿Por qué?<br>\n",
    "Porque según el algoritmo A priori, un subconjunto del conjunto de productos frecuentes también es un subconjunto de productos frecuentes.<br>\n",
    "Entonces, si:<br>\n",
    "<strong>conjunto de pruductos frecuente</strong> = leche, azúcar y galletitas<br>\n",
    "también:<br>\n",
    "<strong>subconjunto de productos frecuente</strong> = leche y azúcar<br>\n",
    "<strong>subconjunto de productos frecuente</strong> = leche y galletitas<br>\n",
    "<strong>subconjunto de productos frecuente</strong> = azúcar y galletitas<br>\n",
    "Debido a esto, si un cliente compra solo leche, también se le recomendará azúcar y galletitas.\n",
    "\n",
    "Componentes del algoritmo A priori:<br>\n",
    "\n",
    "+ Support:<br>\n",
    "  Evalua la popularidad general de un producto determinado. Se calcula con la siguiente fórmula:\n",
    "\n",
    "  <strong>Support(producto1) = Transacciones donde aparece el producto 1 / Transacciones totales</strong>\n",
    "\n",
    "  Un valor alto como resultado significa que ese producto está presente en la mayoría de compras.\n",
    "\n",
    "+ Confidence:<br>\n",
    "  Evalua la probabilidad de diferentes combinaciones de compra. Se calcula con la siguiente fórmula:\n",
    "\n",
    "  <strong>Confidence (producto1 -> producto2) = Transacciones donde aparece p1 y p2 juntos / Transacciones donde aparece p1</strong>\n",
    "\n",
    "  El resultado muestra cuántos usuarios que compraron el producto1 también compraron el producto2.\n",
    "\n",
    "+ Lift:<br>\n",
    "  Evalua el aumento del ratio de la venta del producto1 cuando se vende el producto2. Se calcula usando la siguiente fórmula:\n",
    "\n",
    "  <strong>Lift = Confidence (producto1 -> producto2) / Support(producto1)</strong>\n",
    "\n",
    "  El resultado son las probabilidades de que los clientes compren el producto2 si vendo el producto1.\n",
    "\n",
    "<strong>Support, conficence y lift básicamente son métricas que evalúan la relevancia y la popularidad de cada combinación de productos.</strong>\n",
    "\n"
   ]
  },
  {
   "cell_type": "markdown",
   "metadata": {},
   "source": [
    "Dicho todo lo anterior, ir al <a href=\"./2-analysis.ipynb\">jupyter de análisis</a> para ver el desarrollo del proyecto."
   ]
  }
 ],
 "metadata": {
  "kernelspec": {
   "display_name": "Python 3 (ipykernel)",
   "language": "python",
   "name": "python3"
  },
  "language_info": {
   "name": "python",
   "version": "3.8.10 (default, Jun 22 2022, 20:18:18) \n[GCC 9.4.0]"
  },
  "orig_nbformat": 4,
  "vscode": {
   "interpreter": {
    "hash": "916dbcbb3f70747c44a77c7bcd40155683ae19c65e1c03b4aa3499c5328201f1"
   }
  }
 },
 "nbformat": 4,
 "nbformat_minor": 2
}
